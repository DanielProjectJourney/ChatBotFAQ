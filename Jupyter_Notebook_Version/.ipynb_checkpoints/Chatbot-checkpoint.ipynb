{
 "cells": [
  {
   "cell_type": "code",
   "execution_count": 1,
   "metadata": {
    "collapsed": false
   },
   "outputs": [],
   "source": [
    "import math\n",
    "import os\n",
    "from random import sample\n",
    "import pickle\n",
    "from tqdm import tqdm\n",
    "from scipy.spatial.distance import cdist\n",
    "import json\n",
    "import numpy as np\n",
    "from texttable import Texttable\n",
    "import time\n",
    "import indicoio\n",
    "from functools import wraps\n",
    "# Fuzzy Search Library\n",
    "from fuzzywuzzy import fuzz\n",
    "# py4j the bridge of Java and Python\n",
    "from py4j.java_gateway import JavaGateway\n",
    "# Your Indico API  : https://indico.io/\n",
    "indicoio.config.api_key = \"Your Indico API Key\""
   ]
  },
  {
   "cell_type": "code",
   "execution_count": 2,
   "metadata": {
    "collapsed": false
   },
   "outputs": [],
   "source": [
    "# Store Questions and Answers into Dictionary\n",
    "faqs = {\n",
    "    'Tell me a tongue twister' : 'Tell me a tongue twister',\n",
    "    'What is your name': 'What is your name',\n",
    "    'Can you show me the great barrier reef': 'Can you show me the great barrier reef',\n",
    "    'How do I bring a school group to ACMI' : 'How do I bring a school group to ACMI',\n",
    "    'How do I contact the Museum' : 'How do I contact the Museum',\n",
    "    'What restaurants are at the Crown Entertainment Complex in Melbourne':'What restaurants are at the Crown Entertainment Complex in Melbourne',\n",
    "    'Can you show me some of the offers you currently have at Crown':' Can you show me some of the offers you currently have at Crown',\n",
    "    'How can I book a room at Crown Towers' : 'How can I book a room at Crown Towers',    \n",
    "    'What hotels can I stay at Crown Melbourne' : 'What hotels can I stay at Crown Melbourne',\n",
    "    'Can you show me Crown Melbourne': 'Can you show me Crown Melbourne',\n",
    "    'When are the fireballs on display':'When are the fireballs on display',\n",
    "    'How do I play Baccarat' : 'How do I play Baccarat',\n",
    "    'Can I gamble online with Crown Casino' : 'Can I gamble online with Crown Casino'\n",
    "}"
   ]
  },
  {
   "cell_type": "code",
   "execution_count": 3,
   "metadata": {
    "collapsed": false
   },
   "outputs": [],
   "source": [
    "def make_feats(data):\n",
    "    \"\"\"\n",
    "    Send our text data through the indico API and return each text example's text vector representation\n",
    "    \"\"\"\n",
    "    chunks = [data[x:x+100] for x in range(0, len(data), 100)]\n",
    "    feats = []\n",
    "\n",
    "    # just a progress bar to show us how much we have left\n",
    "    for chunk in tqdm(chunks):\n",
    "        feats.extend(indicoio.text_features(chunk))\n",
    "\n",
    "    return feats"
   ]
  },
  {
   "cell_type": "code",
   "execution_count": 4,
   "metadata": {
    "collapsed": false
   },
   "outputs": [],
   "source": [
    "def calculate_distances(feats):\n",
    "    \"\"\"\n",
    "    cosine distance is the most reasonable metric for comparison of these 300d vectors\n",
    "    \"\"\"\n",
    "    distances = cdist(feats, feats, 'cosine')\n",
    "    return distances"
   ]
  },
  {
   "cell_type": "code",
   "execution_count": 5,
   "metadata": {
    "collapsed": false,
    "scrolled": true
   },
   "outputs": [
    {
     "name": "stderr",
     "output_type": "stream",
     "text": [
      "\r",
      "  0%|          | 0/1 [00:00<?, ?it/s]"
     ]
    },
    {
     "name": "stdout",
     "output_type": "stream",
     "text": [
      "FAQ data received. Finding features.\n"
     ]
    },
    {
     "name": "stderr",
     "output_type": "stream",
     "text": [
      "\r",
      "100%|██████████| 1/1 [00:01<00:00,  1.55s/it]"
     ]
    },
    {
     "name": "stdout",
     "output_type": "stream",
     "text": [
      "FAQ features found!\n"
     ]
    },
    {
     "name": "stderr",
     "output_type": "stream",
     "text": [
      "\n"
     ]
    }
   ],
   "source": [
    "def run():\n",
    "    \"\"\"\n",
    "    Serialize the data to a Pickle file store\n",
    "    \"\"\"\n",
    "    data = list(faqs.keys())\n",
    "    print(\"FAQ data received. Finding features.\")\n",
    "    feats = make_feats(data)\n",
    "    with open('faq_feats.pkl', 'wb') as f:\n",
    "        pickle.dump(feats, f, protocol = 2)\n",
    "    print(\"FAQ features found!\")\n",
    "\n",
    "run()"
   ]
  },
  {
   "cell_type": "code",
   "execution_count": 6,
   "metadata": {
    "collapsed": true
   },
   "outputs": [],
   "source": [
    "def input_question(data, feats):\n",
    "    \"\"\"\n",
    "    Receive the input questions by Users \n",
    "    \"\"\"\n",
    "    # input a question\n",
    "    question = input(\"What is your question? \")\n",
    "\n",
    "    # add the user question and its vector representations to the corresponding lists, `data` and `feats`\n",
    "    # insert them at index 0 so you know exactly where they are for later distance calculations\n",
    "    if question is not None:\n",
    "        data.insert(0, question)\n",
    "\n",
    "    new_feats = indicoio.text_features(question)\n",
    "    feats.insert(0, new_feats)\n",
    "    return data, feats\n",
    "\n"
   ]
  },
  {
   "cell_type": "code",
   "execution_count": 7,
   "metadata": {
    "collapsed": true
   },
   "outputs": [],
   "source": [
    "def fuzzy_search(data,index):\n",
    "    \"\"\"\n",
    "    When Confidence Threshold(Similarity) between 75% and 40%, we use fuzzy_search to check the how many word are similarity.\n",
    "    \"\"\"\n",
    "    fuzzy_search_dict = {}\n",
    "    for idx in index:\n",
    "        value = fuzz.ratio(data[0],data[idx])\n",
    "        fuzzy_search_dict[idx] = value\n",
    "    return max(fuzzy_search_dict.items(), key=lambda x: x[1])[0]"
   ]
  },
  {
   "cell_type": "code",
   "execution_count": 8,
   "metadata": {
    "collapsed": false
   },
   "outputs": [],
   "source": [
    "def similarity_text(idx, distance_matrix, data, n_similar=5):\n",
    "    \"\"\"\n",
    "    Use indici API and Fuzzy Search to select the answer for the Customer\n",
    "    \n",
    "    idx: the index of the text we're looking for similar questions to\n",
    "         (data[idx] corresponds to the actual text we care about)\n",
    "    distance_matrix: an m by n matrix that stores the distance between\n",
    "                     document m and document n at distance_matrix[m][n]\n",
    "    data: a flat list of text data\n",
    "    \"\"\"\n",
    "    t = Texttable()\n",
    "    t.set_cols_width([50, 20])\n",
    "\n",
    "    # these are the indexes of the texts that are most similar to the text at data[idx]\n",
    "    # note that this list of 10 elements contains the index of text that we're comparing things to at idx 0\n",
    "    sorted_distance_idxs = np.argsort(distance_matrix[idx])[:n_similar] # EX: [252, 102, 239, ...]\n",
    "  \n",
    "\n",
    "    #Fuzzy Search Dictionary Index\n",
    "    fuzzy_ratio_array = sorted_distance_idxs.tolist()\n",
    "    fuzzy_ratio_array.pop(0)\n",
    "    print(\"fuzzy ratio array : %r\" % fuzzy_ratio_array)\n",
    "   \n",
    "    # this is the index of the text that is most similar to the query (index 0)\n",
    "    most_sim_idx = sorted_distance_idxs[1]\n",
    "    print(\"sorted distance idx : %r\" % most_sim_idx)\n",
    "    # header for texttable\n",
    "    t.add_rows([['Text', 'Similarity']])\n",
    "    print(t.draw())\n",
    "\n",
    "    # set the variable that will hold our matching FAQ\n",
    "    faq_match = None\n",
    "\n",
    "    for similar_idx in sorted_distance_idxs:\n",
    "        # actual text data for display\n",
    "        datum = data[similar_idx]\n",
    "\n",
    "        # distance in cosine space from our text example to the similar text example\n",
    "        distance = distance_matrix[idx][similar_idx]\n",
    "\n",
    "        # how similar that text data is to our input example\n",
    "        similarity =  1 - distance\n",
    "\n",
    "        # add the text + the floating point similarity value to our Texttable() object for display\n",
    "        t.add_rows([[datum, str(round(similarity, 2))]])\n",
    "        print(t.draw())\n",
    "\n",
    "        # set a confidence threshold\n",
    "        if similar_idx == most_sim_idx and similarity >= 0.75:\n",
    "                    faq_match = data[most_sim_idx]\n",
    "        elif similar_idx == most_sim_idx and similarity >= 0.4:\n",
    "                    fuzzy_search_dict = {}\n",
    "                    fuzzy_max_similarity_index = []\n",
    "                    for idx in fuzzy_ratio_array:\n",
    "                        value = fuzz.ratio(data[0],data[idx])\n",
    "                        fuzzy_search_dict[idx] = value\n",
    "                        fuzzy_max_similarity_index = max(fuzzy_search_dict.items(), key=lambda x: x[1])[0]\n",
    "                \n",
    "                    faq_match = data[fuzzy_max_similarity_index]\n",
    "        else:\n",
    "            sorry = \"Sorry, I'm not sure how to respond. Let me find someone who can help you.\"\n",
    "\n",
    "    # print the appropriate answer to the FAQ, or bring in a human to respond\n",
    "    # TODO\n",
    "    if faq_match is not None:\n",
    "            print(\"A: %r\" % faqs[faq_match])\n",
    "            \n",
    "    else:\n",
    "            print(sorry)"
   ]
  },
  {
   "cell_type": "code",
   "execution_count": 9,
   "metadata": {
    "collapsed": false
   },
   "outputs": [],
   "source": [
    "def run():\n",
    "    \"\"\"\n",
    "    Excute the Chatbot\n",
    "    \"\"\"\n",
    "    data = list(faqs.keys())\n",
    "    print(\"FAQ data received. Finding features.\")\n",
    "    \n",
    "    \n",
    "    with open('faq_feats.pkl', 'rb') as f:\n",
    "            feats = pickle.load(f)\n",
    "    print(\"Features found -- success! Calculating similarities...\")\n",
    "\n",
    "    input_results = input_question(data, feats)\n",
    "    \n",
    "    t0 = time.time()\n",
    "    new_data = input_results[0]\n",
    "    new_feats = input_results[1]\n",
    "\n",
    "    distance_matrix = calculate_distances(new_feats)\n",
    "    print(\"Similarities found. Generating table.\")\n",
    "    \n",
    "    idx = 0\n",
    "\n",
    "    similarity_text(idx, distance_matrix, new_data)\n",
    "    t1 = time.time()\n",
    "    print(t1-t0)\n",
    "    \n",
    "    print('\\n' + '-' * 80)"
   ]
  },
  {
   "cell_type": "code",
   "execution_count": 10,
   "metadata": {
    "collapsed": false
   },
   "outputs": [
    {
     "name": "stdout",
     "output_type": "stream",
     "text": [
      "FAQ data received. Finding features.\n",
      "Features found -- success! Calculating similarities...\n",
      "What is your question? how do i contact museum\n",
      "Similarities found. Generating table.\n",
      "fuzzy ratio array : [6, 8, 9, 4]\n",
      "sorted distance idx : 6\n",
      "+----------------------------------------------------+----------------------+\n",
      "|                        Text                        |      Similarity      |\n",
      "+====================================================+======================+\n",
      "+----------------------------------------------------+----------------------+\n",
      "+----------------------------------------------------+----------------------+\n",
      "|              how do i contact museum               |         1.0          |\n",
      "+====================================================+======================+\n",
      "+----------------------------------------------------+----------------------+\n",
      "+----------------------------------------------------+----------------------+\n",
      "|            How do I contact the Museum             |         1.0          |\n",
      "+====================================================+======================+\n",
      "+----------------------------------------------------+----------------------+\n",
      "+----------------------------------------------------+----------------------+\n",
      "|       How do I bring a school group to ACMI        |         0.25         |\n",
      "+====================================================+======================+\n",
      "+----------------------------------------------------+----------------------+\n",
      "+----------------------------------------------------+----------------------+\n",
      "|       How can I book a room at Crown Towers        |         0.21         |\n",
      "+====================================================+======================+\n",
      "+----------------------------------------------------+----------------------+\n",
      "+----------------------------------------------------+----------------------+\n",
      "|              Tell me a tongue twister              |         0.21         |\n",
      "+====================================================+======================+\n",
      "+----------------------------------------------------+----------------------+\n",
      "A: 'How do I contact the Museum'\n",
      "0.10867118835449219\n",
      "\n",
      "--------------------------------------------------------------------------------\n"
     ]
    }
   ],
   "source": [
    "run()"
   ]
  },
  {
   "cell_type": "code",
   "execution_count": null,
   "metadata": {
    "collapsed": true
   },
   "outputs": [],
   "source": []
  }
 ],
 "metadata": {
  "kernelspec": {
   "display_name": "Python 3",
   "language": "python",
   "name": "python3"
  },
  "language_info": {
   "codemirror_mode": {
    "name": "ipython",
    "version": 3
   },
   "file_extension": ".py",
   "mimetype": "text/x-python",
   "name": "python",
   "nbconvert_exporter": "python",
   "pygments_lexer": "ipython3",
   "version": "3.5.3"
  }
 },
 "nbformat": 4,
 "nbformat_minor": 2
}
